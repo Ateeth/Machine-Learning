{
 "cells": [
  {
   "cell_type": "markdown",
   "metadata": {},
   "source": [
    "Exception Handling"
   ]
  },
  {
   "cell_type": "code",
   "execution_count": 8,
   "metadata": {},
   "outputs": [],
   "source": [
    "a = 10"
   ]
  },
  {
   "cell_type": "code",
   "execution_count": 9,
   "metadata": {},
   "outputs": [
    {
     "ename": "NameError",
     "evalue": "name 'b' is not defined",
     "output_type": "error",
     "traceback": [
      "\u001b[1;31m---------------------------------------------------------------------------\u001b[0m",
      "\u001b[1;31mNameError\u001b[0m                                 Traceback (most recent call last)",
      "Cell \u001b[1;32mIn [9], line 1\u001b[0m\n\u001b[1;32m----> 1\u001b[0m a \u001b[38;5;241m=\u001b[39m \u001b[43mb\u001b[49m\n",
      "\u001b[1;31mNameError\u001b[0m: name 'b' is not defined"
     ]
    }
   ],
   "source": [
    "a = b"
   ]
  },
  {
   "cell_type": "code",
   "execution_count": 10,
   "metadata": {},
   "outputs": [
    {
     "name": "stdout",
     "output_type": "stream",
     "text": [
      "Some problem may have occured\n"
     ]
    }
   ],
   "source": [
    "try:\n",
    "  ##code block where exception can occur\n",
    "  a = b\n",
    "except:\n",
    "  print(\"Some problem may have occured\")\n",
    "  "
   ]
  },
  {
   "cell_type": "markdown",
   "metadata": {},
   "source": [
    "To see the error message"
   ]
  },
  {
   "cell_type": "code",
   "execution_count": 11,
   "metadata": {},
   "outputs": [
    {
     "name": "stdout",
     "output_type": "stream",
     "text": [
      "name 'b' is not defined\n"
     ]
    }
   ],
   "source": [
    "try:\n",
    "  ##code block where exception can occur\n",
    "  a = b\n",
    "except Exception as ex:\n",
    "  print(ex)\n",
    "  "
   ]
  },
  {
   "cell_type": "markdown",
   "metadata": {},
   "source": [
    "Exception is the top class and other exception classes are derived from it and if a catch(except) block for Exception class mention it last"
   ]
  },
  {
   "cell_type": "code",
   "execution_count": 12,
   "metadata": {},
   "outputs": [
    {
     "name": "stdout",
     "output_type": "stream",
     "text": [
      "name 'b' is not defined\n"
     ]
    }
   ],
   "source": [
    "try:\n",
    "  ##code block where exception can occur\n",
    "  a = b\n",
    "except Exception as ex:\n",
    "  print(ex)"
   ]
  },
  {
   "cell_type": "code",
   "execution_count": 13,
   "metadata": {},
   "outputs": [
    {
     "name": "stdout",
     "output_type": "stream",
     "text": [
      "The user has not defined the variable name\n"
     ]
    }
   ],
   "source": [
    "try:\n",
    "  ##code block where exception can occur\n",
    "  a = b\n",
    "\n",
    "except NameError as ex1:\n",
    "  print(\"The user has not defined the variable name\")\n",
    "  \n",
    "except Exception as ex:\n",
    "  print(ex)"
   ]
  },
  {
   "cell_type": "code",
   "execution_count": 16,
   "metadata": {},
   "outputs": [
    {
     "ename": "TypeError",
     "evalue": "unsupported operand type(s) for +: 'int' and 'str'",
     "output_type": "error",
     "traceback": [
      "\u001b[1;31m---------------------------------------------------------------------------\u001b[0m",
      "\u001b[1;31mTypeError\u001b[0m                                 Traceback (most recent call last)",
      "Cell \u001b[1;32mIn [16], line 3\u001b[0m\n\u001b[0;32m      1\u001b[0m a \u001b[38;5;241m=\u001b[39m \u001b[38;5;241m1\u001b[39m\n\u001b[0;32m      2\u001b[0m b \u001b[38;5;241m=\u001b[39m \u001b[38;5;124m\"\u001b[39m\u001b[38;5;124ms\u001b[39m\u001b[38;5;124m\"\u001b[39m\n\u001b[1;32m----> 3\u001b[0m c \u001b[38;5;241m=\u001b[39m \u001b[43ma\u001b[49m\u001b[43m \u001b[49m\u001b[38;5;241;43m+\u001b[39;49m\u001b[43m \u001b[49m\u001b[43mb\u001b[49m\n",
      "\u001b[1;31mTypeError\u001b[0m: unsupported operand type(s) for +: 'int' and 'str'"
     ]
    }
   ],
   "source": [
    "a = 1\n",
    "b = \"s\"\n",
    "c = a + b"
   ]
  },
  {
   "cell_type": "code",
   "execution_count": 18,
   "metadata": {},
   "outputs": [
    {
     "name": "stdout",
     "output_type": "stream",
     "text": [
      "Try to make the datatypes similar\n"
     ]
    }
   ],
   "source": [
    "try:\n",
    "  ##code block where exception can occur\n",
    "  a = 1\n",
    "  b = \"s\"\n",
    "  c = a + b\n",
    "except NameError :\n",
    "  print(\"The user has not defined the variable name\")\n",
    "\n",
    "except TypeError :\n",
    "  print(\"Try to make the datatypes similar\") \n",
    "except Exception as ex:\n",
    "  print(ex)"
   ]
  },
  {
   "cell_type": "code",
   "execution_count": 23,
   "metadata": {},
   "outputs": [
    {
     "name": "stdout",
     "output_type": "stream",
     "text": [
      "Please provide number greater than 0\n"
     ]
    }
   ],
   "source": [
    "try:\n",
    "  ##code block where exception can occur\n",
    "  a = int(input(\"Enter the first number : \"))\n",
    "  b = int(input(\"Enter the second number : \"))\n",
    "  c = a / b\n",
    "  d = a * b\n",
    "  e = a + b\n",
    "  \n",
    "  print(c)\n",
    "  print(d)\n",
    "  print(e)\n",
    "except NameError :\n",
    "  print(\"The user has not defined the variable name\")\n",
    "\n",
    "except TypeError :\n",
    "  print(\"Try to make the datatypes similar\") \n",
    "  \n",
    "except ZeroDivisionError :\n",
    "  print(\"Please provide number greater than 0\")\n",
    "\n",
    "except Exception as ex:\n",
    "  print(ex)"
   ]
  },
  {
   "cell_type": "code",
   "execution_count": 22,
   "metadata": {},
   "outputs": [
    {
     "ename": "ZeroDivisionError",
     "evalue": "division by zero",
     "output_type": "error",
     "traceback": [
      "\u001b[1;31m---------------------------------------------------------------------------\u001b[0m",
      "\u001b[1;31mZeroDivisionError\u001b[0m                         Traceback (most recent call last)",
      "Cell \u001b[1;32mIn [22], line 1\u001b[0m\n\u001b[1;32m----> 1\u001b[0m \u001b[43ma\u001b[49m\u001b[38;5;241;43m/\u001b[39;49m\u001b[38;5;241;43m0\u001b[39;49m\n",
      "\u001b[1;31mZeroDivisionError\u001b[0m: division by zero"
     ]
    }
   ],
   "source": [
    "a/0\n"
   ]
  },
  {
   "cell_type": "markdown",
   "metadata": {},
   "source": [
    "else block if no error is caught"
   ]
  },
  {
   "cell_type": "code",
   "execution_count": 24,
   "metadata": {},
   "outputs": [
    {
     "name": "stdout",
     "output_type": "stream",
     "text": [
      "3.0\n",
      "48\n",
      "16\n"
     ]
    }
   ],
   "source": [
    "try:\n",
    "  ##code block where exception can occur\n",
    "  a = int(input(\"Enter the first number : \"))\n",
    "  b = int(input(\"Enter the second number : \"))\n",
    "  c = a / b\n",
    "  d = a * b\n",
    "  e = a + b\n",
    "  \n",
    "except NameError :\n",
    "  print(\"The user has not defined the variable name\")\n",
    "\n",
    "except TypeError :\n",
    "  print(\"Try to make the datatypes similar\") \n",
    "  \n",
    "except ZeroDivisionError :\n",
    "  print(\"Please provide number greater than 0\")\n",
    "\n",
    "except Exception as ex:\n",
    "  print(ex)\n",
    "  \n",
    "else :\n",
    "  print(c)\n",
    "  print(d)\n",
    "  print(e)"
   ]
  },
  {
   "cell_type": "markdown",
   "metadata": {},
   "source": [
    "finally executes always despite if error is caught or not"
   ]
  },
  {
   "cell_type": "code",
   "execution_count": 26,
   "metadata": {},
   "outputs": [
    {
     "name": "stdout",
     "output_type": "stream",
     "text": [
      "Please provide number greater than 0\n",
      "Code is executed successfully\n"
     ]
    }
   ],
   "source": [
    "try:\n",
    "  ##code block where exception can occur\n",
    "  a = int(input(\"Enter the first number : \"))\n",
    "  b = int(input(\"Enter the second number : \"))\n",
    "  c = a / b\n",
    "  d = a * b\n",
    "  e = a + b\n",
    "  \n",
    "except NameError :\n",
    "  print(\"The user has not defined the variable name\")\n",
    "\n",
    "except TypeError :\n",
    "  print(\"Try to make the datatypes similar\") \n",
    "  \n",
    "except ZeroDivisionError :\n",
    "  print(\"Please provide number greater than 0\")\n",
    "\n",
    "except Exception as ex:\n",
    "  print(ex)\n",
    "  \n",
    "else :\n",
    "  print(c)\n",
    "  print(d)\n",
    "  print(e)\n",
    "\n",
    "finally : \n",
    "  print(\"Code is executed successfully\")"
   ]
  },
  {
   "cell_type": "markdown",
   "metadata": {},
   "source": [
    "**Custom Exception**"
   ]
  },
  {
   "cell_type": "markdown",
   "metadata": {},
   "source": [
    "Create a class and inherit the Error class"
   ]
  },
  {
   "cell_type": "code",
   "execution_count": 27,
   "metadata": {},
   "outputs": [],
   "source": [
    "class Error(Exception) :\n",
    "  pass\n",
    "\n",
    "class dobException(Error) :\n",
    "  pass\n",
    "\n",
    "class customgeneric(Error) : pass"
   ]
  },
  {
   "cell_type": "code",
   "execution_count": 31,
   "metadata": {},
   "outputs": [
    {
     "name": "stdout",
     "output_type": "stream",
     "text": [
      "The year age is not valid ! You cannot apply for examinations\n"
     ]
    }
   ],
   "source": [
    "year = int(input(\"Enter year of Birth\"))\n",
    "\n",
    "age = 2022 - year\n",
    "\n",
    "try :\n",
    "  if age <= 30 & age > 20 :\n",
    "    print(\"The age is valid , You can apply for examinations !!!\")\n",
    "  else :\n",
    "    raise dobException\n",
    "  \n",
    "except dobException :\n",
    "  print(\"The age is not valid ! You cannot apply for examinations\")"
   ]
  }
 ],
 "metadata": {
  "kernelspec": {
   "display_name": "Python 3.10.6",
   "language": "python",
   "name": "python3"
  },
  "language_info": {
   "codemirror_mode": {
    "name": "ipython",
    "version": 3
   },
   "file_extension": ".py",
   "mimetype": "text/x-python",
   "name": "python",
   "nbconvert_exporter": "python",
   "pygments_lexer": "ipython3",
   "version": "3.10.6"
  },
  "orig_nbformat": 4,
  "vscode": {
   "interpreter": {
    "hash": "3b095c78d4d0a65c3f456c494693e1a5b5771f8f860a0a9af68316c2e765deba"
   }
  }
 },
 "nbformat": 4,
 "nbformat_minor": 2
}
