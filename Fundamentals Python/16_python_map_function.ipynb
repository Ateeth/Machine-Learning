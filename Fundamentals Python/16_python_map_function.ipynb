{
 "cells": [
  {
   "cell_type": "markdown",
   "metadata": {},
   "source": [
    "Map function in python"
   ]
  },
  {
   "cell_type": "code",
   "execution_count": 4,
   "metadata": {},
   "outputs": [],
   "source": [
    "def even_or_odd(num) : \n",
    "  if num % 2 == 0 : \n",
    "    return \"The number {} is EVEN !!\".format(num)\n",
    "  else : \n",
    "    return \"The number {} is ODD !!\".format(num)"
   ]
  },
  {
   "cell_type": "code",
   "execution_count": 5,
   "metadata": {},
   "outputs": [
    {
     "data": {
      "text/plain": [
       "'The number 24 is EVEN !!'"
      ]
     },
     "execution_count": 5,
     "metadata": {},
     "output_type": "execute_result"
    }
   ],
   "source": [
    "even_or_odd(24)"
   ]
  },
  {
   "cell_type": "code",
   "execution_count": 6,
   "metadata": {},
   "outputs": [],
   "source": [
    "lst = [1 , 2 , 3 , 4 , 5 , 6 , 7 , 8 , 9 , 24 , 56 , 78]"
   ]
  },
  {
   "cell_type": "markdown",
   "metadata": {},
   "source": [
    "The map can be used to iterate each element of lst accross the even_or_odd function\n",
    "\n",
    "syntax : map(function_name , object)"
   ]
  },
  {
   "cell_type": "code",
   "execution_count": 10,
   "metadata": {},
   "outputs": [
    {
     "data": {
      "text/plain": [
       "['The number 1 is ODD !!',\n",
       " 'The number 2 is EVEN !!',\n",
       " 'The number 3 is ODD !!',\n",
       " 'The number 4 is EVEN !!',\n",
       " 'The number 5 is ODD !!',\n",
       " 'The number 6 is EVEN !!',\n",
       " 'The number 7 is ODD !!',\n",
       " 'The number 8 is EVEN !!',\n",
       " 'The number 9 is ODD !!',\n",
       " 'The number 24 is EVEN !!',\n",
       " 'The number 56 is EVEN !!',\n",
       " 'The number 78 is EVEN !!']"
      ]
     },
     "execution_count": 10,
     "metadata": {},
     "output_type": "execute_result"
    }
   ],
   "source": [
    "list(map(even_or_odd , lst))"
   ]
  },
  {
   "cell_type": "code",
   "execution_count": 11,
   "metadata": {},
   "outputs": [
    {
     "name": "stdout",
     "output_type": "stream",
     "text": [
      "The number 1 is ODD !!\n",
      "The number 2 is EVEN !!\n",
      "The number 3 is ODD !!\n",
      "The number 4 is EVEN !!\n",
      "The number 5 is ODD !!\n",
      "The number 6 is EVEN !!\n",
      "The number 7 is ODD !!\n",
      "The number 8 is EVEN !!\n",
      "The number 9 is ODD !!\n",
      "The number 24 is EVEN !!\n",
      "The number 56 is EVEN !!\n",
      "The number 78 is EVEN !!\n"
     ]
    }
   ],
   "source": [
    "for i in lst : \n",
    "  print(even_or_odd(i))"
   ]
  }
 ],
 "metadata": {
  "kernelspec": {
   "display_name": "Python 3.10.6",
   "language": "python",
   "name": "python3"
  },
  "language_info": {
   "codemirror_mode": {
    "name": "ipython",
    "version": 3
   },
   "file_extension": ".py",
   "mimetype": "text/x-python",
   "name": "python",
   "nbconvert_exporter": "python",
   "pygments_lexer": "ipython3",
   "version": "3.10.6"
  },
  "orig_nbformat": 4,
  "vscode": {
   "interpreter": {
    "hash": "3b095c78d4d0a65c3f456c494693e1a5b5771f8f860a0a9af68316c2e765deba"
   }
  }
 },
 "nbformat": 4,
 "nbformat_minor": 2
}
